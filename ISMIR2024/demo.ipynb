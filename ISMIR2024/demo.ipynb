{
 "cells": [
  {
   "cell_type": "markdown",
   "id": "3ddb2328",
   "metadata": {},
   "source": [
    "## Imports"
   ]
  },
  {
   "cell_type": "code",
   "execution_count": 9,
   "id": "3efe71f5",
   "metadata": {},
   "outputs": [],
   "source": [
    "import sys\n",
    "import os\n",
    "import json\n",
    "import glob\n",
    "import subprocess\n",
    "from collections import OrderedDict\n",
    "import itertools\n",
    "import numpy as np\n",
    "import matplotlib.pyplot as plt\n",
    "\n",
    "import librosa\n",
    "from IPython.display import Audio as ipy_audio\n",
    "from IPython.core.display import display\n",
    "\n"
   ]
  },
  {
   "cell_type": "code",
   "execution_count": 10,
   "id": "cc0e2072",
   "metadata": {},
   "outputs": [],
   "source": [
    "SCRIPT_DIR = os.path.dirname(os.path.abspath(\"\"))\n",
    "sys.path.append(SCRIPT_DIR)\n",
    "\n",
    "from quicktranscribe import tonic, pitch, wave, kde\n",
    "from mogra import tonnetz\n",
    "from mogra.datatypes import Swar, normalize_frequency, ratio_to_swar, SWAR_BOUNDARIES"
   ]
  },
  {
   "cell_type": "code",
   "execution_count": 11,
   "id": "f21ad980",
   "metadata": {},
   "outputs": [],
   "source": [
    "# syntonic comma in the 0 to 1 scale\n",
    "SYNTONIC_COMMA = (librosa.hz_to_midi(220*81/80) - librosa.hz_to_midi(220))/12"
   ]
  },
  {
   "cell_type": "code",
   "execution_count": null,
   "id": "28b0a7a5",
   "metadata": {},
   "outputs": [],
   "source": []
  },
  {
   "cell_type": "markdown",
   "id": "5798e7f5",
   "metadata": {
    "notebookRunGroups": {
     "groupValue": "2"
    }
   },
   "source": [
    "## Util Functions"
   ]
  },
  {
   "cell_type": "code",
   "execution_count": 3,
   "id": "94412270",
   "metadata": {},
   "outputs": [],
   "source": [
    "def fetch_audio(ra, savedir):\n",
    "    for raag, vv in ra.items():\n",
    "        for artist, url in vv.items():\n",
    "            command = f\"/opt/homebrew/bin/yt-dlp {url} -f 'ba' -x --audio-format 'mp3' --ffmpeg-location /opt/homebrew/bin/ffmpeg -P {savedir}/ -o {raag}-{artist}.mp3\"\n",
    "            result = subprocess.run(command, shell=True, capture_output=True)\n",
    "            print(result.stdout.decode())\n",
    "            if len(result.stderr) > 0:\n",
    "                print(\"Error:\", result.stderr.decode())"
   ]
  },
  {
   "cell_type": "code",
   "execution_count": 4,
   "id": "28293b49",
   "metadata": {},
   "outputs": [],
   "source": [
    "def annotate_tonic(track_path, plot=False):\n",
    "    DEFAULT_TONIC = 220\n",
    "    np.set_printoptions(suppress=True)\n",
    "    \n",
    "    start=7*60\n",
    "    end=8*60\n",
    "    y_stereo, sr = wave.read_audio_section(track_path + \".mp3\", start, end)\n",
    "    y_sample = librosa.to_mono(y_stereo.T)\n",
    "    \n",
    "    kde_sample = kde.extract(y_sample, sr=sr, tonic=DEFAULT_TONIC)\n",
    "    peaks, _ = kde.prominence_based_peak_finder(kde_sample, prominence=0.005)\n",
    "    print(peaks)\n",
    "\n",
    "    if plot:\n",
    "        plt.plot(np.linspace(0, 12, len(kde_sample)), kde_sample, color=\"teal\")\n",
    "        plt.plot(np.array(peaks) * 12/len(kde_sample), kde_sample[peaks], \"o\", markersize=\"3\", color=\"orange\")\n",
    "    \n",
    "    display(ipy_audio(y_sample, rate=sr))\n",
    "    input(\"hear the audio and press any key to continue\")\n",
    "    \n",
    "    peaks = sorted(peaks, key=lambda x: kde_sample[x], reverse=True)\n",
    "    found_tonic = False\n",
    "    for peak in peaks:\n",
    "        # generate a sine wave of the peak frequency and play it\n",
    "        fpeak = librosa.midi_to_hz(librosa.hz_to_midi(DEFAULT_TONIC) + 12 * peak / len(kde_sample))\n",
    "        ypeak = librosa.tone(fpeak, duration=3)\n",
    "        display(ipy_audio(ypeak, rate=sr))\n",
    "        ft = input(\"Is this the tonic? (y/n): \")\n",
    "        if ft == \"y\":\n",
    "            found_tonic = True\n",
    "            break\n",
    "    \n",
    "    if not found_tonic:\n",
    "        print(\"No tonic found\")\n",
    "        return None\n",
    "    \n",
    "    # write tonic to file\n",
    "    tonic.write_tonic(track_path + \".ctonic.txt\", fpeak)"
   ]
  },
  {
   "cell_type": "code",
   "execution_count": 5,
   "id": "fa714665",
   "metadata": {},
   "outputs": [],
   "source": [
    "def read_sample_and_tonic(track_path):\n",
    "    \n",
    "    ctonic = tonic.read_tonic(track_path + \".ctonic.txt\")\n",
    "    # metadata = tonic.read_metadata(track_path + \".json\")\n",
    "    # pitch_annotations, aps = pitch.read_pitch(track_path + \".pitch.txt\")\n",
    "    \n",
    "    # # full audio\n",
    "    # y_sample, sr = wave.get_audio(track_path + \".mp3\")\n",
    "\n",
    "    # # 3-minute sample\n",
    "    start=5*60\n",
    "    end=8*60\n",
    "    y_stereo, sr = wave.read_audio_section(track_path + \".mp3\", start, end)\n",
    "    y_sample = librosa.to_mono(y_stereo.T)\n",
    "    # ipy_audio(data=y_sample, rate=sr)\n",
    "    \n",
    "    return y_sample, sr, ctonic"
   ]
  },
  {
   "cell_type": "code",
   "execution_count": null,
   "id": "ba853a3c",
   "metadata": {},
   "outputs": [],
   "source": []
  },
  {
   "cell_type": "markdown",
   "id": "a4d47d99",
   "metadata": {},
   "source": [
    "## Raags & Tracks"
   ]
  },
  {
   "cell_type": "code",
   "execution_count": 6,
   "id": "4e87b8c7",
   "metadata": {},
   "outputs": [],
   "source": [
    "DATA_DIR = \"concrete-demo/\""
   ]
  },
  {
   "cell_type": "code",
   "execution_count": null,
   "id": "fa5d5c76",
   "metadata": {},
   "outputs": [],
   "source": [
    "raag_theoretical = {\n",
    "    \"Bhoop\": [1, 10/9, 5/4, 3/2, 5/3],\n",
    "    \"Deshkar\": [1, 9/8, 81/64, 3/2,  27/16],\n",
    "    \"Yaman\": [1, 9/8, 5/4, 45/32, 3/2, 27/16, 15/8],\n",
    "}\n",
    "for raag, vv in raag_theoretical.items():\n",
    "    raag_theoretical[raag] = [normalize_frequency(f) for f in vv]\n",
    "    print(raag)\n",
    "    for ii in range(len(raag_theoretical[raag])):\n",
    "        print(f\"{ratio_to_swar(raag_theoretical[raag][ii])}: {np.round(raag_theoretical[raag][ii], 6)})\")"
   ]
  },
  {
   "cell_type": "code",
   "execution_count": 13,
   "id": "d0e56f96",
   "metadata": {},
   "outputs": [],
   "source": [
    "raags_and_artists = {\n",
    "    \"Bhoop\": {\n",
    "        \"AjoyChakrabarty\": \"https://www.youtube.com/watch?v=AaSH_AF-Gzg\",\n",
    "        \"MilindRaikar\": \"https://www.youtube.com/watch?v=9a7NhReDWy8\",\n",
    "        \"DKDatar\": \"https://www.youtube.com/watch?v=z5RemO4d41o\",\n",
    "    },\n",
    "    \"Deshkar\": {\n",
    "        \"AjoyChakrabarty\": \"https://www.youtube.com/watch?v=0vseJcm5xPE\",\n",
    "        \"KalaRamnath\": \"https://www.youtube.com/watch?v=DBgqgTrEc1o\",\n",
    "        \"PravinGodkhindi\": \"https://www.youtube.com/watch?v=w-uh1vjXVaU\",\n",
    "    },\n",
    "    \"Yaman\" : {\n",
    "        \"KalaRamnath\": \"https://www.youtube.com/watch?v=kvTqtXP6lmo\",\n",
    "        \"NandiniShankar\": \"https://www.youtube.com/watch?v=ldS89LPpQ_w\",\n",
    "        \"DKDatar\": \"https://www.youtube.com/watch?v=EemtViN7zM8\",\n",
    "    },\n",
    "}"
   ]
  },
  {
   "cell_type": "code",
   "execution_count": 15,
   "id": "887f948d",
   "metadata": {},
   "outputs": [],
   "source": [
    "# ONLY ONCE\n",
    "# fetch_audio(raags_and_artists, DATA_DIR)"
   ]
  },
  {
   "cell_type": "code",
   "execution_count": 17,
   "id": "439dc0c5",
   "metadata": {},
   "outputs": [],
   "source": [
    "# ONLY ONCE\n",
    "# for raag, vv in raags_and_artists.items():\n",
    "#     raag_samples = {}\n",
    "#     for artist, _ in vv.items():\n",
    "#         track_mp3 = glob.glob(f\"{DATA_DIR}/{raag}-{artist}*.mp3\")[0]\n",
    "#         annotate_tonic(track_mp3[:-4])"
   ]
  },
  {
   "cell_type": "code",
   "execution_count": null,
   "id": "dbee3b23",
   "metadata": {},
   "outputs": [],
   "source": []
  },
  {
   "cell_type": "markdown",
   "id": "ba736b18",
   "metadata": {},
   "source": [
    "## Algorithmic Frequencies"
   ]
  },
  {
   "cell_type": "code",
   "execution_count": 8,
   "id": "3cb23a68",
   "metadata": {},
   "outputs": [],
   "source": []
  },
  {
   "cell_type": "code",
   "execution_count": 11,
   "id": "a1867dc3",
   "metadata": {},
   "outputs": [],
   "source": [
    "ftracks = {}\n",
    "for track_mp3 in glob.glob(DATA_DIR + f\"*Deshkar*.mp3\"):\n",
    "    track_path = track_mp3[:-4]\n",
    "    y_sample, sr, ctonic = read_sample_and_tonic(track_path)\n",
    "    ftrack = pitch.track_pitch_pyin(y_sample, sr, ctonic)\n",
    "    ftracks[track_path.split(\"/\")[-1]] = ftrack"
   ]
  },
  {
   "cell_type": "code",
   "execution_count": null,
   "id": "6a0525da",
   "metadata": {},
   "outputs": [],
   "source": [
    "for tt, ftrack in ftracks.items():\n",
    "    plt.figure(figsize=(20, 10))\n",
    "    plt.plot(ftrack[:1000])\n",
    "    plt.title(tt)\n",
    "    plt.show()"
   ]
  },
  {
   "cell_type": "code",
   "execution_count": null,
   "id": "e4ebf6a7",
   "metadata": {},
   "outputs": [],
   "source": []
  }
 ],
 "metadata": {
  "kernelspec": {
   "display_name": "Python 3",
   "language": "python",
   "name": "python3"
  },
  "language_info": {
   "codemirror_mode": {
    "name": "ipython",
    "version": 3
   },
   "file_extension": ".py",
   "mimetype": "text/x-python",
   "name": "python",
   "nbconvert_exporter": "python",
   "pygments_lexer": "ipython3",
   "version": "3.11.9"
  }
 },
 "nbformat": 4,
 "nbformat_minor": 5
}
