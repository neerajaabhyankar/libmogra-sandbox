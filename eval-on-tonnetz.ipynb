{
 "cells": [
  {
   "cell_type": "markdown",
   "metadata": {},
   "source": [
    "### Imports"
   ]
  },
  {
   "cell_type": "code",
   "execution_count": null,
   "metadata": {},
   "outputs": [],
   "source": [
    "from mogra.datatypes import Samooha\n",
    "from mogra.tonnetz import Tonnetz"
   ]
  },
  {
   "cell_type": "code",
   "execution_count": null,
   "metadata": {},
   "outputs": [],
   "source": []
  },
  {
   "cell_type": "markdown",
   "metadata": {},
   "source": [
    "### Toy Problem"
   ]
  },
  {
   "cell_type": "markdown",
   "metadata": {},
   "source": [
    "I have a swarasamooha. I'm operating within a bounded tonnetz net.<br>\n",
    "I want to evaluate a \"cost\" of each shruti assignment to every note in the samooha.\n",
    "\n",
    "e.g.<br>\n",
    "my samooha is `s1 = Sgn,Sn,SgSggn,n,n,S` and set of notes are `{S, g, n}` with options within my net `{S, g1/g2, n1/n2}`<br>\n",
    "I'd like a comprehensive family of functions `M` that evaluate `M(s1(S,g1,n1)), M(s1(S,g1,n2)), M(s1(S,g2,n1)), M(s1(S,g2,n2))`"
   ]
  },
  {
   "cell_type": "code",
   "execution_count": null,
   "metadata": {},
   "outputs": [],
   "source": [
    "s1 = Samooha(\"Sgn,Sn,SgSggn,n,n,S\")"
   ]
  },
  {
   "cell_type": "code",
   "execution_count": 1,
   "metadata": {},
   "outputs": [],
   "source": [
    "# construct bounded tonnetz"
   ]
  },
  {
   "cell_type": "code",
   "execution_count": 4,
   "metadata": {},
   "outputs": [],
   "source": [
    "# get_swar_options\n",
    "# permute\n",
    "\n",
    "# now in each evaluation, we have a set of coordinates"
   ]
  },
  {
   "cell_type": "markdown",
   "metadata": {},
   "source": [
    "0th order"
   ]
  },
  {
   "cell_type": "code",
   "execution_count": null,
   "metadata": {},
   "outputs": [],
   "source": [
    "# collapse s1 into a histogram\n",
    "# M0 is now a function of this histogram on notes, each note being a coordinate "
   ]
  }
 ],
 "metadata": {
  "language_info": {
   "name": "python"
  }
 },
 "nbformat": 4,
 "nbformat_minor": 2
}
