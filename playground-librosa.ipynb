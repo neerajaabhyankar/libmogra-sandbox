{
 "cells": [
  {
   "cell_type": "code",
   "execution_count": null,
   "id": "e03f7c2d",
   "metadata": {},
   "outputs": [],
   "source": [
    "import os\n",
    "import numpy as np\n",
    "import matplotlib.pyplot as plt\n",
    "import librosa\n",
    "import soundfile as sf\n",
    "\n",
    "from IPython.display import Audio as ipy_audio\n",
    "from quicktranscribe.wave import read_audio_section"
   ]
  },
  {
   "cell_type": "code",
   "execution_count": null,
   "id": "c67c5700",
   "metadata": {},
   "outputs": [],
   "source": [
    "gps_file = \"GhodePeSawaar.mp3\"\n",
    "ngtj_file = \"NasatesaGhariTuJevha.wav\"\n",
    "bhoop_file = \"Omkar Dadarkar - Raag Bhoopali.mp3\"\n",
    "malkauns_file = \"Ajoy Chakrabarty - Malkauns.mp3\""
   ]
  },
  {
   "cell_type": "code",
   "execution_count": null,
   "id": "4135080b",
   "metadata": {},
   "outputs": [],
   "source": []
  },
  {
   "cell_type": "markdown",
   "id": "025dec2b",
   "metadata": {},
   "source": [
    "### Librosa init example"
   ]
  },
  {
   "cell_type": "code",
   "execution_count": null,
   "metadata": {},
   "outputs": [],
   "source": [
    "# 06:45 to 07:00\n",
    "start = 45*60+20\n",
    "end = 45*60+32\n",
    "y_stereo, sr = read_audio_section(bhoop_file, start, end)\n",
    "y = librosa.to_mono(y_stereo.T)\n",
    "print(y.shape)"
   ]
  },
  {
   "cell_type": "code",
   "execution_count": null,
   "metadata": {},
   "outputs": [],
   "source": [
    "ipy_audio(data=y, rate=sr)"
   ]
  },
  {
   "cell_type": "code",
   "execution_count": null,
   "metadata": {},
   "outputs": [],
   "source": [
    "# res = librosa.pyin(y, fmin=50, fmax=200)\n",
    "# plt.plot(res[0])\n",
    "# # wtf is f0? why is it 3 arrays?"
   ]
  },
  {
   "cell_type": "code",
   "execution_count": null,
   "metadata": {},
   "outputs": [],
   "source": [
    "# ptrack = librosa.piptrack(y=y, sr=sr)"
   ]
  },
  {
   "cell_type": "code",
   "execution_count": null,
   "metadata": {},
   "outputs": [],
   "source": [
    "cqt = librosa.feature.chroma_cqt(y=y, sr=sr)"
   ]
  },
  {
   "cell_type": "code",
   "execution_count": null,
   "metadata": {},
   "outputs": [],
   "source": [
    "# known tonic\n",
    "sa = 155.563492"
   ]
  },
  {
   "cell_type": "code",
   "execution_count": null,
   "metadata": {},
   "outputs": [],
   "source": [
    "plt.figure(figsize=(10,5))\n",
    "ax = plt.gca()\n",
    "img = librosa.display.specshow(cqt, y_axis='chroma', x_axis='time')\n",
    "ax.yaxis.set_major_formatter(librosa.display.SvaraFormatter(sa))\n",
    "ax.set(title='chroma_stft')\n",
    "ax.label_outer()\n",
    "plt.colorbar(img)"
   ]
  },
  {
   "cell_type": "markdown",
   "metadata": {},
   "source": [
    "Something's wrong about this!<br>\n",
    "But stuff can be done.."
   ]
  },
  {
   "cell_type": "code",
   "execution_count": null,
   "metadata": {},
   "outputs": [],
   "source": [
    "y_harm, y_perc = librosa.effects.hpss(y)"
   ]
  },
  {
   "cell_type": "code",
   "execution_count": null,
   "metadata": {},
   "outputs": [],
   "source": [
    "ipy_audio(data=y_harm, rate=sr)"
   ]
  },
  {
   "cell_type": "code",
   "execution_count": null,
   "metadata": {},
   "outputs": [],
   "source": [
    "ipy_audio(data=y_perc, rate=sr)"
   ]
  },
  {
   "cell_type": "code",
   "execution_count": null,
   "metadata": {},
   "outputs": [],
   "source": []
  },
  {
   "cell_type": "markdown",
   "metadata": {},
   "source": [
    "### Librosa spectral features"
   ]
  },
  {
   "cell_type": "code",
   "execution_count": null,
   "metadata": {},
   "outputs": [],
   "source": [
    "start = 6\n",
    "end = 16\n",
    "y_stereo, sr = read_audio_section(malkauns_file, start, end)\n",
    "y = librosa.to_mono(y_stereo.T)"
   ]
  },
  {
   "cell_type": "code",
   "execution_count": null,
   "metadata": {},
   "outputs": [],
   "source": [
    "ipy_audio(data=y, rate=sr)"
   ]
  },
  {
   "cell_type": "markdown",
   "metadata": {},
   "source": [
    "STFT"
   ]
  },
  {
   "cell_type": "code",
   "execution_count": null,
   "metadata": {},
   "outputs": [],
   "source": [
    "S = np.abs(librosa.stft(y, n_fft=4096))**2\n",
    "img = librosa.display.specshow(librosa.amplitude_to_db(S, ref=np.max), y_axis='log', x_axis='time')"
   ]
  },
  {
   "cell_type": "code",
   "execution_count": null,
   "metadata": {},
   "outputs": [],
   "source": [
    "S = np.abs(librosa.stft(y, n_fft=4096))**2\n",
    "chroma = librosa.feature.chroma_stft(S=S, sr=sr)\n",
    "img = librosa.display.specshow(chroma, y_axis='chroma_h', x_axis='time', thaat='bhairavi', Sa=1)"
   ]
  },
  {
   "cell_type": "markdown",
   "metadata": {},
   "source": [
    "CQT"
   ]
  },
  {
   "cell_type": "code",
   "execution_count": null,
   "metadata": {},
   "outputs": [],
   "source": [
    "C = np.abs(librosa.cqt(y, sr=sr))\n",
    "img = librosa.display.specshow(librosa.amplitude_to_db(C, ref=np.max), sr=sr, x_axis='time', y_axis='cqt_note')"
   ]
  },
  {
   "cell_type": "code",
   "execution_count": null,
   "metadata": {},
   "outputs": [],
   "source": [
    "chroma_cq = librosa.feature.chroma_cqt(y=y, sr=sr)\n",
    "img = librosa.display.specshow(chroma_cq, y_axis='chroma_h', x_axis='time', thaat='bhairavi', Sa=1)"
   ]
  },
  {
   "cell_type": "markdown",
   "metadata": {},
   "source": [
    "VQT"
   ]
  },
  {
   "cell_type": "code",
   "execution_count": null,
   "metadata": {},
   "outputs": [],
   "source": [
    "V = np.abs(librosa.vqt(y, sr=sr, bins_per_octave=36, fmin=librosa.note_to_hz('C2')))\n",
    "img = librosa.display.specshow(librosa.amplitude_to_db(V, ref=np.max), sr=sr, x_axis='time', y_axis='cqt_note')"
   ]
  },
  {
   "cell_type": "code",
   "execution_count": null,
   "metadata": {},
   "outputs": [],
   "source": [
    "chroma_vq = librosa.vqt(y, sr=sr, bins_per_octave=36, fmin=librosa.note_to_hz('C2'))\n",
    "img = librosa.display.specshow(chroma_vq, y_axis='vqt_fjs', x_axis='time', thaat='bhairavi', Sa=1, intervals='ji5')"
   ]
  },
  {
   "cell_type": "code",
   "execution_count": null,
   "metadata": {},
   "outputs": [],
   "source": []
  },
  {
   "cell_type": "markdown",
   "metadata": {},
   "source": [
    "Misc"
   ]
  },
  {
   "cell_type": "code",
   "execution_count": null,
   "metadata": {},
   "outputs": [],
   "source": [
    "\"\"\" Zero crossing:\n",
    "The  higher this is, the less reliable our computed frequency is?? Why??\n",
    "\"\"\"\n",
    "zc = librosa.feature.zero_crossing_rate(y)[0]\n",
    "plt.plot(zc)"
   ]
  },
  {
   "cell_type": "code",
   "execution_count": null,
   "metadata": {},
   "outputs": [],
   "source": [
    "\"\"\" RMS:\n",
    "Correlates with the energy in the signal over time. The RMS is probably over the f domain, so a sharp f --> a higher RMS??\n",
    "\"\"\"\n",
    "rms = librosa.feature.rms(y=y)[0]\n",
    "plt.plot(rms)"
   ]
  },
  {
   "cell_type": "code",
   "execution_count": null,
   "metadata": {},
   "outputs": [],
   "source": []
  },
  {
   "cell_type": "code",
   "execution_count": null,
   "metadata": {},
   "outputs": [],
   "source": [
    "ipy_audio(data=y, rate=sr)"
   ]
  },
  {
   "cell_type": "code",
   "execution_count": null,
   "metadata": {},
   "outputs": [],
   "source": []
  },
  {
   "cell_type": "code",
   "execution_count": null,
   "metadata": {},
   "outputs": [],
   "source": []
  },
  {
   "cell_type": "code",
   "execution_count": null,
   "metadata": {},
   "outputs": [],
   "source": [
    "mfcc = librosa.feature.mfcc(y=y, sr=sr, dct_type=2)\n",
    "plt.figure(figsize=(10,5))\n",
    "# ax = plt.gca()\n",
    "img = librosa.display.specshow(mfcc, x_axis='time')\n",
    "# ax.matshow(mfcc)"
   ]
  },
  {
   "cell_type": "code",
   "execution_count": null,
   "metadata": {},
   "outputs": [],
   "source": []
  },
  {
   "cell_type": "code",
   "execution_count": null,
   "metadata": {},
   "outputs": [],
   "source": []
  },
  {
   "cell_type": "markdown",
   "id": "fdbea592",
   "metadata": {},
   "source": [
    "### speech_recongition example"
   ]
  },
  {
   "cell_type": "code",
   "execution_count": null,
   "metadata": {},
   "outputs": [],
   "source": [
    "import speech_recognition as sr"
   ]
  },
  {
   "cell_type": "code",
   "execution_count": null,
   "id": "7327e286",
   "metadata": {},
   "outputs": [],
   "source": [
    "r = sr.Recognizer()\n",
    "\n",
    "# Reading Audio File and storing in a variable\n",
    "with sr.AudioFile(ngtj_file) as source:\n",
    "    audio_text = r.listen(source)"
   ]
  },
  {
   "cell_type": "code",
   "execution_count": null,
   "id": "92afb8c8",
   "metadata": {},
   "outputs": [],
   "source": [
    "text = r.recognize_google(audio_text, language=\"mr\")"
   ]
  },
  {
   "cell_type": "code",
   "execution_count": null,
   "id": "c2400f48",
   "metadata": {},
   "outputs": [],
   "source": []
  },
  {
   "cell_type": "code",
   "execution_count": null,
   "id": "d81db236",
   "metadata": {},
   "outputs": [],
   "source": []
  }
 ],
 "metadata": {
  "kernelspec": {
   "display_name": "Python 3",
   "language": "python",
   "name": "python3"
  },
  "language_info": {
   "codemirror_mode": {
    "name": "ipython",
    "version": 3
   },
   "file_extension": ".py",
   "mimetype": "text/x-python",
   "name": "python",
   "nbconvert_exporter": "python",
   "pygments_lexer": "ipython3",
   "version": "3.11.6"
  }
 },
 "nbformat": 4,
 "nbformat_minor": 5
}
