{
 "cells": [
  {
   "cell_type": "markdown",
   "metadata": {},
   "source": [
    "Inspired by https://easychair.org/publications/preprint/dKWn/open"
   ]
  },
  {
   "cell_type": "markdown",
   "metadata": {},
   "source": [
    "## Imports"
   ]
  },
  {
   "cell_type": "code",
   "execution_count": null,
   "metadata": {},
   "outputs": [],
   "source": [
    "from collections import OrderedDict\n",
    "import numpy as np\n",
    "import matplotlib.pyplot as plt\n",
    "from plotly import graph_objects as go\n",
    "\n",
    "from sklearn.feature_extraction.text import TfidfVectorizer\n",
    "from sklearn.manifold import TSNE"
   ]
  },
  {
   "cell_type": "code",
   "execution_count": null,
   "metadata": {},
   "outputs": [],
   "source": [
    "from mogra.datatypes import SSwar\n",
    "from mogra.raagfinder.parse import RAAG_DB"
   ]
  },
  {
   "cell_type": "code",
   "execution_count": null,
   "metadata": {},
   "outputs": [],
   "source": []
  },
  {
   "cell_type": "markdown",
   "metadata": {},
   "source": [
    "## Vectorize"
   ]
  },
  {
   "cell_type": "code",
   "execution_count": null,
   "metadata": {},
   "outputs": [],
   "source": [
    "raagdocs = OrderedDict({\n",
    "    ii: \" . \".join([\" \".join(phrase) for phrase in RAAG_DB[ii][\"mukhyanga\"] if len(phrase) > 0])\n",
    "    for ii in RAAG_DB.keys()\n",
    "})"
   ]
  },
  {
   "cell_type": "code",
   "execution_count": null,
   "metadata": {},
   "outputs": [],
   "source": [
    "# raagdocs"
   ]
  },
  {
   "cell_type": "code",
   "execution_count": null,
   "metadata": {},
   "outputs": [],
   "source": [
    "# tfidf = TfidfVectorizer(\n",
    "#     analyzer=\"word\",\n",
    "#     ngram_range=(2, 4),\n",
    "#     lowercase=False,\n",
    "#     token_pattern=r\"\\S+\",\n",
    "#     preprocessor=None,\n",
    "#     tokenizer=None,\n",
    "#     strip_accents=None,\n",
    "#     # stop_words=[\"\\n\", \"X\"]\n",
    "# )\n",
    "\n",
    "# X = tfidf.fit_transform([\n",
    "#     'S R . ,D S . S R . `S D',\n",
    "#     'S R ,D S . S R S D',\n",
    "# ])\n",
    "# # get the vocabulary and idfs\n",
    "# vocab = tfidf.vocabulary_\n",
    "# idf = tfidf.idf_\n",
    "\n",
    "\n",
    "# sorted_idf = sorted(zip(vocab.keys(), idf), key=lambda x: x[1], reverse=True)\n",
    "# plt.plot([x[1] for x in sorted_idf])\n",
    "# plt.xticks(\n",
    "#     range(len(sorted_idf)),\n",
    "#     [x[0] for x in sorted_idf],\n",
    "#     rotation=90,\n",
    "# )\n",
    "# plt.xlabel(\"N-grams\")\n",
    "# plt.ylabel(\"IDF\")\n"
   ]
  },
  {
   "cell_type": "code",
   "execution_count": null,
   "metadata": {},
   "outputs": [],
   "source": [
    "tfidf = TfidfVectorizer(\n",
    "    analyzer=\"word\",\n",
    "    ngram_range=(2, 5),\n",
    "    lowercase=False,\n",
    "    token_pattern=r\"\\S+\",\n",
    "    preprocessor=None,\n",
    "    tokenizer=None,\n",
    "    strip_accents=None,\n",
    ")\n",
    "\n",
    "X = tfidf.fit_transform(raagdocs.values())\n",
    "# get the vocabulary and idfs\n",
    "vocab = tfidf.vocabulary_\n",
    "idf = tfidf.idf_"
   ]
  },
  {
   "cell_type": "code",
   "execution_count": null,
   "metadata": {},
   "outputs": [],
   "source": [
    "sorted_idf = sorted(zip(vocab.keys(), idf), key=lambda x: x[1], reverse=True)\n",
    "plt.plot([x[1] for x in sorted_idf])"
   ]
  },
  {
   "cell_type": "code",
   "execution_count": null,
   "metadata": {},
   "outputs": [],
   "source": [
    "max_idf = max([x[1] for x in sorted_idf])\n",
    "# indices of idf that are < max_idf\n",
    "indices = [i for i, x in enumerate([x[1] for x in sorted_idf]) if x < max_idf]\n",
    "# only take the columns of X that are in the indices\n",
    "X_f = X[:, indices].toarray()"
   ]
  },
  {
   "cell_type": "code",
   "execution_count": null,
   "metadata": {},
   "outputs": [],
   "source": []
  },
  {
   "cell_type": "markdown",
   "metadata": {},
   "source": [
    "## tSNE"
   ]
  },
  {
   "cell_type": "code",
   "execution_count": null,
   "metadata": {},
   "outputs": [],
   "source": [
    "tsne = TSNE(\n",
    "    n_components=2,\n",
    "    perplexity=8,\n",
    "    n_iter=1000,\n",
    "    random_state=0,\n",
    "    verbose=1,\n",
    ")\n",
    "X_embedded = tsne.fit_transform(X_f)"
   ]
  },
  {
   "cell_type": "code",
   "execution_count": null,
   "metadata": {},
   "outputs": [],
   "source": [
    "fig = go.Figure()\n",
    "fig.add_trace(\n",
    "    go.Scatter(\n",
    "        x=X_embedded[:, 0],\n",
    "        y=X_embedded[:, 1],\n",
    "        mode=\"markers+text\",\n",
    "        text=list(raagdocs.keys()),\n",
    "        textposition=\"top center\",\n",
    "        marker=dict(size=5),\n",
    "        textfont=dict(size=8),  # Reduced font size\n",
    "    )\n",
    ")\n",
    "fig.show()"
   ]
  },
  {
   "cell_type": "code",
   "execution_count": null,
   "metadata": {},
   "outputs": [],
   "source": []
  },
  {
   "cell_type": "markdown",
   "metadata": {},
   "source": [
    "## Test"
   ]
  },
  {
   "cell_type": "code",
   "execution_count": null,
   "metadata": {},
   "outputs": [],
   "source": [
    "# sargam\n",
    "bhoop_seq = \"G G R G R S . S ,D S . \" \\\n",
    "    \"S P G . S ,D S . \" \\\n",
    "    \"S G R . R P G . G D P . P `S D . D R `S . `S D `S . \" \\\n",
    "    \"`S P D G P R G .\" \\\n",
    "    \"S P G . S ,D S . \" \\\n",
    "    \"G P R G R S\"\n",
    "\n",
    "# transcription!\n",
    "bhoop_seq = \"S G R S ,D S R S R G R G P D P G P D P G S P G R S R S R G R G R G P G R G P ,D D P D `S D P G R G P D P G R G R S R G R G R ,D R S ,D S ,D S R S ,D S R G P D P G\""
   ]
  },
  {
   "cell_type": "code",
   "execution_count": null,
   "metadata": {},
   "outputs": [],
   "source": [
    "bhoopseq_transform = tfidf.transform([bhoop_seq]).toarray()[0]"
   ]
  },
  {
   "cell_type": "code",
   "execution_count": null,
   "metadata": {},
   "outputs": [],
   "source": [
    "# distance from bhoop to each of the other raags\n",
    "dist_array = np.array([\n",
    "    np.linalg.norm(bhoopseq_transform[indices] - X_f[ii])\n",
    "    for ii in range(len(raagdocs))\n",
    "])\n",
    "sorted_dist = sorted(zip(list(raagdocs.keys()), dist_array), key=lambda x: x[1])\n",
    "for raag, dist in sorted_dist:\n",
    "    if raag in [\"all\", \"none\"]:\n",
    "        continue\n",
    "    print(f\"distance from {raag}: {dist:.2f}\")"
   ]
  },
  {
   "cell_type": "code",
   "execution_count": null,
   "metadata": {},
   "outputs": [],
   "source": []
  }
 ],
 "metadata": {
  "kernelspec": {
   "display_name": "icm-shruti-analysis-XL3d-GDY-py3.11",
   "language": "python",
   "name": "python3"
  },
  "language_info": {
   "codemirror_mode": {
    "name": "ipython",
    "version": 3
   },
   "file_extension": ".py",
   "mimetype": "text/x-python",
   "name": "python",
   "nbconvert_exporter": "python",
   "pygments_lexer": "ipython3",
   "version": "3.11.11"
  }
 },
 "nbformat": 4,
 "nbformat_minor": 2
}
