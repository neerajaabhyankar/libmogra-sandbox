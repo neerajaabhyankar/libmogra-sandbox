{
 "cells": [
  {
   "cell_type": "markdown",
   "id": "3ddb2328",
   "metadata": {},
   "source": [
    "## Imports"
   ]
  },
  {
   "cell_type": "markdown",
   "id": "8a1d0907",
   "metadata": {},
   "source": [
    "Clone and install https://github.com/MTG/pycompmusic"
   ]
  },
  {
   "cell_type": "markdown",
   "id": "3ad8909a",
   "metadata": {},
   "source": [
    "Download data using `download-dunya.py`"
   ]
  },
  {
   "cell_type": "code",
   "execution_count": null,
   "id": "3efe71f5",
   "metadata": {},
   "outputs": [],
   "source": [
    "import json, os, sys\n",
    "import pickle, csv\n",
    "import time\n",
    "import datetime\n",
    "from collections import OrderedDict\n",
    "import itertools\n",
    "from copy import deepcopy\n",
    "\n",
    "import numpy as np\n",
    "import pandas as pd\n",
    "import matplotlib.pyplot as plt\n",
    "import matplotlib.ticker as ticker\n",
    "import plotly.express as px\n",
    "\n",
    "import scipy\n",
    "import librosa\n",
    "from IPython.display import Audio as ipy_audio"
   ]
  },
  {
   "cell_type": "code",
   "execution_count": null,
   "metadata": {},
   "outputs": [],
   "source": [
    "from quicktranscribe import tonic, pitch, wave"
   ]
  },
  {
   "cell_type": "markdown",
   "id": "5798e7f5",
   "metadata": {},
   "source": [
    "## Parse + Plot"
   ]
  },
  {
   "cell_type": "code",
   "execution_count": null,
   "id": "1a7f4641",
   "metadata": {},
   "outputs": [],
   "source": [
    "DATA_DIR = \"/Users/neerajaabhyankar/Repos/icm-shruti-analysis/data-dunya-hindustani/\""
   ]
  },
  {
   "cell_type": "code",
   "execution_count": null,
   "id": "3cc9fc4e",
   "metadata": {},
   "outputs": [],
   "source": [
    "def plot_annotations(track):\n",
    "    ctonic = tonic.read_tonic(DATA_DIR + track + \".ctonic.txt\")\n",
    "    pitch_annotations, aps = pitch.read_pitch(DATA_DIR + track + \".pitch.txt\")\n",
    "    \n",
    "    pv = pitch.PitchValidator(audio_array=np.array([]), sampling_rate=0)\n",
    "    pv.set_annotation(pitch_annotations=pitch_annotations, annotation_rate=aps)\n",
    "    pv.set_tonic(ctonic)\n",
    "    \n",
    "    pv.plot_annotations_hist()"
   ]
  },
  {
   "cell_type": "markdown",
   "id": "e96c65f0",
   "metadata": {},
   "source": [
    "## Compare"
   ]
  },
  {
   "cell_type": "code",
   "execution_count": null,
   "id": "7b00026a",
   "metadata": {},
   "outputs": [],
   "source": [
    "plot_annotations(\"Omkar Dadarkar - Raag Todi\")"
   ]
  },
  {
   "cell_type": "code",
   "execution_count": null,
   "id": "685f6745",
   "metadata": {},
   "outputs": [],
   "source": [
    "plot_annotations(\"Omkar Dadarkar - Raag Multani\")"
   ]
  },
  {
   "cell_type": "code",
   "execution_count": null,
   "metadata": {},
   "outputs": [],
   "source": [
    "plot_annotations(\"Kaustuv Kanti Ganguli - Raag Puriya Dhanashree\")"
   ]
  },
  {
   "cell_type": "code",
   "execution_count": null,
   "metadata": {},
   "outputs": [],
   "source": [
    "plot_annotations(\"Kaustuv Kanti Ganguli - Raag Shree\")"
   ]
  },
  {
   "cell_type": "code",
   "execution_count": null,
   "id": "846febb1",
   "metadata": {},
   "outputs": [],
   "source": []
  }
 ],
 "metadata": {
  "kernelspec": {
   "display_name": "Python 3",
   "language": "python",
   "name": "python3"
  },
  "language_info": {
   "codemirror_mode": {
    "name": "ipython",
    "version": 3
   },
   "file_extension": ".py",
   "mimetype": "text/x-python",
   "name": "python",
   "nbconvert_exporter": "python",
   "pygments_lexer": "ipython3",
   "version": "3.11.9"
  }
 },
 "nbformat": 4,
 "nbformat_minor": 5
}
