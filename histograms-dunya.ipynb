{
 "cells": [
  {
   "cell_type": "markdown",
   "id": "3ddb2328",
   "metadata": {},
   "source": [
    "## Imports"
   ]
  },
  {
   "cell_type": "code",
   "execution_count": null,
   "id": "3efe71f5",
   "metadata": {},
   "outputs": [],
   "source": [
    "import json\n",
    "import glob\n",
    "import subprocess\n",
    "from collections import OrderedDict\n",
    "import itertools\n",
    "import numpy as np\n",
    "import matplotlib.pyplot as plt\n",
    "import librosa\n",
    "from IPython.display import Audio as ipy_audio\n",
    "from IPython.core.display import display\n",
    "\n",
    "from quicktranscribe import tonic, pitch, wave, kde\n",
    "from mogra import tonnetz\n",
    "from mogra.datatypes import Swar, normalize_frequency, ratio_to_swar, SWAR_BOUNDARIES"
   ]
  },
  {
   "cell_type": "markdown",
   "id": "8a1d0907",
   "metadata": {},
   "source": [
    "- Clone and install https://github.com/MTG/pycompmusic\n",
    "- Download data using `download-dunya.py`"
   ]
  },
  {
   "cell_type": "code",
   "execution_count": 2,
   "id": "41f26755",
   "metadata": {},
   "outputs": [],
   "source": [
    "DATA_DIR = \"/Users/neerajaabhyankar/Repos/icm-shruti-analysis/data-dunya-hindustani/\""
   ]
  },
  {
   "cell_type": "code",
   "execution_count": 3,
   "id": "f21ad980",
   "metadata": {},
   "outputs": [],
   "source": [
    "# syntonic comma in the 0 to 1 scale\n",
    "SYNTONIC_COMMA = (librosa.hz_to_midi(220*81/80) - librosa.hz_to_midi(220))/12"
   ]
  },
  {
   "cell_type": "code",
   "execution_count": 4,
   "id": "dbb8c520",
   "metadata": {},
   "outputs": [],
   "source": [
    "# another comma\n",
    "DIESIS_COMMA = (librosa.hz_to_midi(220*128/125) - librosa.hz_to_midi(220))/12"
   ]
  },
  {
   "cell_type": "code",
   "execution_count": null,
   "id": "f12b06a3",
   "metadata": {},
   "outputs": [],
   "source": []
  },
  {
   "cell_type": "markdown",
   "id": "5798e7f5",
   "metadata": {
    "notebookRunGroups": {
     "groupValue": "2"
    }
   },
   "source": [
    "## Util Functions"
   ]
  },
  {
   "cell_type": "code",
   "execution_count": 10,
   "id": "94412270",
   "metadata": {},
   "outputs": [],
   "source": [
    "def fetch_audio(ra):\n",
    "    for raag, vv in ra.items():\n",
    "        for artist, url in vv.items():\n",
    "            command = f\"/opt/homebrew/bin/yt-dlp {url} -f 'ba' -x --audio-format 'mp3' --ffmpeg-location /opt/homebrew/bin/ffmpeg -P concrete-demo/ -o {raag}-{artist}.mp3\"\n",
    "            result = subprocess.run(command, shell=True, capture_output=True)\n",
    "            print(result.stdout.decode())\n",
    "            if len(result.stderr) > 0:\n",
    "                print(\"Error:\", result.stderr.decode())"
   ]
  },
  {
   "cell_type": "code",
   "execution_count": 7,
   "id": "28293b49",
   "metadata": {},
   "outputs": [],
   "source": [
    "def annotate_tonic(track_path, plot=False):\n",
    "    DEFAULT_TONIC = 220\n",
    "    np.set_printoptions(suppress=True)\n",
    "    \n",
    "    start=7*60\n",
    "    end=8*60\n",
    "    y_stereo, sr = wave.read_audio_section(track_path + \".mp3\", start, end)\n",
    "    y_sample = librosa.to_mono(y_stereo.T)\n",
    "    \n",
    "    kde_sample = kde.extract(y_sample, sr=sr, tonic=DEFAULT_TONIC)\n",
    "    peaks, _ = kde.prominence_based_peak_finder(kde_sample, prominence=0.005)\n",
    "    print(peaks)\n",
    "\n",
    "    if plot:\n",
    "        plt.plot(np.linspace(0, 12, len(kde_sample)), kde_sample, color=\"teal\")\n",
    "        plt.plot(np.array(peaks) * 12/len(kde_sample), kde_sample[peaks], \"o\", markersize=\"3\", color=\"orange\")\n",
    "    \n",
    "    display(ipy_audio(y_sample, rate=sr))\n",
    "    input(\"hear the audio and press any key to continue\")\n",
    "    \n",
    "    peaks = sorted(peaks, key=lambda x: kde_sample[x], reverse=True)\n",
    "    found_tonic = False\n",
    "    for peak in peaks:\n",
    "        # generate a sine wave of the peak frequency and play it\n",
    "        fpeak = librosa.midi_to_hz(librosa.hz_to_midi(DEFAULT_TONIC) + 12 * peak / len(kde_sample))\n",
    "        ypeak = librosa.tone(fpeak, duration=3)\n",
    "        display(ipy_audio(ypeak, rate=sr))\n",
    "        ft = input(\"Is this the tonic? (y/n): \")\n",
    "        if ft == \"y\":\n",
    "            found_tonic = True\n",
    "            break\n",
    "    \n",
    "    if not found_tonic:\n",
    "        print(\"No tonic found\")\n",
    "        return None\n",
    "    \n",
    "    # write tonic to file\n",
    "    tonic.write_tonic(track_path + \".ctonic.txt\", fpeak)"
   ]
  },
  {
   "cell_type": "code",
   "execution_count": 8,
   "id": "fa714665",
   "metadata": {},
   "outputs": [],
   "source": [
    "def read_sample_and_tonic(track_path):\n",
    "    \n",
    "    ctonic = tonic.read_tonic(track_path + \".ctonic.txt\")\n",
    "    # metadata = tonic.read_metadata(track_path + \".json\")\n",
    "    # pitch_annotations, aps = pitch.read_pitch(track_path + \".pitch.txt\")\n",
    "    \n",
    "    # # full audio\n",
    "    # y_sample, sr = wave.get_audio(track_path + \".mp3\")\n",
    "\n",
    "    # # 10-minute sample\n",
    "    start=4*60\n",
    "    end=12*60\n",
    "    y_stereo, sr = wave.read_audio_section(track_path + \".mp3\", start, end)\n",
    "    y_sample = librosa.to_mono(y_stereo.T)\n",
    "    # ipy_audio(data=y_sample, rate=sr)\n",
    "    \n",
    "    return y_sample, sr, ctonic"
   ]
  },
  {
   "cell_type": "code",
   "execution_count": 9,
   "id": "3cc9fc4e",
   "metadata": {},
   "outputs": [],
   "source": [
    "def plot_annotations(track):\n",
    "    ctonic = tonic.read_tonic(DATA_DIR + track + \".ctonic.txt\")\n",
    "    pitch_annotations, aps = pitch.read_pitch(DATA_DIR + track + \".pitch.txt\")\n",
    "    \n",
    "    pv = pitch.PitchValidator(audio_array=np.array([]), sampling_rate=0)\n",
    "    pv.set_annotation(pitch_annotations=pitch_annotations, annotation_rate=aps)\n",
    "    pv.set_tonic(ctonic)\n",
    "    \n",
    "    pv.plot_annotations_hist()"
   ]
  },
  {
   "cell_type": "markdown",
   "id": "e96c65f0",
   "metadata": {},
   "source": [
    "## Plot Annotations"
   ]
  },
  {
   "cell_type": "code",
   "execution_count": null,
   "id": "7b00026a",
   "metadata": {},
   "outputs": [],
   "source": [
    "plot_annotations(\"Omkar Dadarkar - Raag Todi\")"
   ]
  },
  {
   "cell_type": "code",
   "execution_count": null,
   "id": "685f6745",
   "metadata": {},
   "outputs": [],
   "source": [
    "plot_annotations(\"Omkar Dadarkar - Raag Multani\")"
   ]
  },
  {
   "cell_type": "code",
   "execution_count": null,
   "id": "36295191",
   "metadata": {},
   "outputs": [],
   "source": [
    "plot_annotations(\"Kaustuv Kanti Ganguli - Raag Puriya Dhanashree\")"
   ]
  },
  {
   "cell_type": "code",
   "execution_count": null,
   "id": "d28ccaeb",
   "metadata": {},
   "outputs": [],
   "source": [
    "plot_annotations(\"Kaustuv Kanti Ganguli - Raag Shree\")"
   ]
  },
  {
   "cell_type": "code",
   "execution_count": null,
   "id": "846febb1",
   "metadata": {},
   "outputs": [],
   "source": []
  },
  {
   "cell_type": "markdown",
   "id": "ba2fc49d",
   "metadata": {},
   "source": [
    "## Plot Detections"
   ]
  },
  {
   "cell_type": "code",
   "execution_count": null,
   "id": "27a99156",
   "metadata": {},
   "outputs": [],
   "source": [
    "for track_mp3 in glob.glob(DATA_DIR + \"*Bhoop*.mp3\"):\n",
    "    track_path = track_mp3[:-4]\n",
    "    \n",
    "    y_sample, sr, ctonic = read_sample_and_tonic(track_path)\n",
    "    \n",
    "    kde_sample = kde.extract(y_sample, sr=sr, tonic=ctonic)\n",
    "\n",
    "    plt.plot(np.linspace(0, 12, len(kde_sample)), kde_sample, color=\"green\")\n",
    "    plt.xlabel(\"relative note index\")\n",
    "    plt.ylabel(\"normalized duration\")"
   ]
  },
  {
   "cell_type": "code",
   "execution_count": 5,
   "id": "89d1ced8",
   "metadata": {},
   "outputs": [],
   "source": [
    "todis = {\n",
    "    # \"Ajoy Chakrabarty - Todi\": None,  # corrupted\n",
    "    \"Kumar Gandharva - Raag Todi\": None,\n",
    "    \"Omkar Dadarkar - Raag Todi\": None,\n",
    "}\n",
    "multanis = {\n",
    "    \"Ajoy Chakrabarty - Multani\": None,\n",
    "    \"Omkar Dadarkar - Raag Multani\": None,\n",
    "}"
   ]
  },
  {
   "cell_type": "code",
   "execution_count": null,
   "id": "8b87f088",
   "metadata": {},
   "outputs": [],
   "source": [
    "for track_name in todis:\n",
    "    track_mp3 = glob.glob(DATA_DIR + f\"*{track_name}*mp3\")[0]\n",
    "    track_path = track_mp3[:-4]\n",
    "    \n",
    "    y_sample, sr, ctonic = read_sample_and_tonic(track_path)\n",
    "    \n",
    "    kde_sample = kde.extract(y_sample, sr=sr, tonic=ctonic)\n",
    "    todis[track_name] = kde_sample\n",
    "    peaks, _ = kde.prominence_based_peak_finder(kde_sample, prominence=0.005)\n",
    "    print(peaks)\n",
    "\n",
    "    plt.plot(np.linspace(0, 12, len(kde_sample)), kde_sample, color=\"teal\")\n",
    "    plt.plot(np.array(peaks) * 12/len(kde_sample), kde_sample[peaks], \"o\", markersize=\"3\", color=\"orange\")\n",
    "    plt.xlabel(\"relative note index\")\n",
    "    plt.ylabel(\"normalized duration\")\n",
    "\n",
    "plt.show()"
   ]
  },
  {
   "cell_type": "code",
   "execution_count": null,
   "id": "cc2470c2",
   "metadata": {},
   "outputs": [],
   "source": [
    "for track_name in multanis:\n",
    "    track_mp3 = glob.glob(DATA_DIR + f\"*{track_name}*mp3\")[0]\n",
    "    track_path = track_mp3[:-4]\n",
    "    \n",
    "    y_sample, sr, ctonic = read_sample_and_tonic(track_path)\n",
    "    \n",
    "    kde_sample = kde.extract(y_sample, sr=sr, tonic=ctonic)\n",
    "    multanis[track_name] = kde_sample\n",
    "    peaks, _ = kde.prominence_based_peak_finder(kde_sample, prominence=0.005)\n",
    "    print(peaks)\n",
    "\n",
    "    plt.plot(np.linspace(0, 12, len(kde_sample)), kde_sample, color=\"olivedrab\")\n",
    "    plt.plot(np.array(peaks) * 12/len(kde_sample), kde_sample[peaks], \"o\", markersize=\"3\", color=\"orange\")\n",
    "    plt.xlabel(\"relative note index\")\n",
    "    plt.ylabel(\"normalized duration\")\n",
    "\n",
    "plt.show()"
   ]
  },
  {
   "cell_type": "code",
   "execution_count": null,
   "id": "362ffb6f",
   "metadata": {},
   "outputs": [],
   "source": [
    "malkaunses = {\n",
    "    \"Satyasheel Deshpande - Raag Malkauns\": None,\n",
    "    # \"Ajoy Chakrabarty - Malkauns\": None,\n",
    "}\n",
    "bhoops = {\n",
    "    \"Omkar Dadarkar - Raag Bhoopali\": None,\n",
    "    \"Sameehan Kashalkar - Raag Bhoopali\": None,\n",
    "}\n",
    "meghs = {\n",
    "    \"Anol Chatterjee - Raag Megh\": None,\n",
    "}"
   ]
  },
  {
   "cell_type": "code",
   "execution_count": null,
   "id": "14f77bde",
   "metadata": {},
   "outputs": [],
   "source": [
    "for track_name in malkaunses:\n",
    "    track_mp3 = glob.glob(DATA_DIR + f\"*{track_name}*mp3\")[0]\n",
    "    track_path = track_mp3[:-4]\n",
    "    \n",
    "    y_sample, sr, ctonic = read_sample_and_tonic(track_path)\n",
    "    \n",
    "    kde_sample = kde.extract(y_sample, sr=sr, tonic=ctonic)\n",
    "    malkaunses[track_name] = kde_sample\n",
    "    peaks, _ = kde.prominence_based_peak_finder(kde_sample, prominence=0.005)\n",
    "    print(peaks)\n",
    "\n",
    "    plt.plot(np.linspace(0, 12, len(kde_sample)), kde_sample, color=\"darkviolet\")\n",
    "    plt.plot(np.array(peaks) * 12/len(kde_sample), kde_sample[peaks], \"o\", markersize=\"3\", color=\"orange\")\n",
    "    plt.xlabel(\"relative note index\")\n",
    "    plt.ylabel(\"normalized duration\")\n",
    "\n",
    "plt.show()"
   ]
  },
  {
   "cell_type": "code",
   "execution_count": null,
   "id": "16fb02e7",
   "metadata": {},
   "outputs": [],
   "source": [
    "for track_name in bhoops:\n",
    "    track_mp3 = glob.glob(DATA_DIR + f\"*{track_name}*mp3\")[0]\n",
    "    track_path = track_mp3[:-4]\n",
    "    \n",
    "    y_sample, sr, ctonic = read_sample_and_tonic(track_path)\n",
    "    \n",
    "    kde_sample = kde.extract(y_sample, sr=sr, tonic=ctonic)\n",
    "    bhoops[track_name] = kde_sample\n",
    "    peaks, _ = kde.prominence_based_peak_finder(kde_sample, prominence=0.005)\n",
    "    print(peaks)\n",
    "\n",
    "    plt.plot(np.linspace(0, 12, len(kde_sample)), kde_sample, color=\"crimson\")\n",
    "    plt.plot(np.array(peaks) * 12/len(kde_sample), kde_sample[peaks], \"o\", markersize=\"3\", color=\"orange\")\n",
    "    plt.xlabel(\"relative note index\")\n",
    "    plt.ylabel(\"normalized duration\")\n",
    "\n",
    "plt.show()"
   ]
  },
  {
   "cell_type": "code",
   "execution_count": null,
   "id": "0cd399ef",
   "metadata": {},
   "outputs": [],
   "source": [
    "for track_name in meghs:\n",
    "    track_mp3 = glob.glob(DATA_DIR + f\"*{track_name}*mp3\")[0]\n",
    "    track_path = track_mp3[:-4]\n",
    "    \n",
    "    y_sample, sr, ctonic = read_sample_and_tonic(track_path)\n",
    "    \n",
    "    kde_sample = kde.extract(y_sample, sr=sr, tonic=ctonic)\n",
    "    meghs[track_name] = kde_sample\n",
    "    peaks, _ = kde.prominence_based_peak_finder(kde_sample, prominence=0.005)\n",
    "    print(peaks)\n",
    "\n",
    "    plt.plot(np.linspace(0, 12, len(kde_sample)), kde_sample, color=\"darkslateblue\")\n",
    "    plt.plot(np.array(peaks) * 12/len(kde_sample), kde_sample[peaks], \"o\", markersize=\"3\", color=\"orange\")\n",
    "    plt.xlabel(\"relative note index\")\n",
    "    plt.ylabel(\"normalized duration\")\n",
    "\n",
    "plt.show()"
   ]
  },
  {
   "cell_type": "code",
   "execution_count": null,
   "id": "01586811",
   "metadata": {},
   "outputs": [],
   "source": []
  },
  {
   "cell_type": "markdown",
   "id": "6643af97",
   "metadata": {},
   "source": [
    "Back-of-the envelope"
   ]
  },
  {
   "cell_type": "code",
   "execution_count": null,
   "id": "61e29270",
   "metadata": {},
   "outputs": [],
   "source": [
    "malkauns = [0, 62, 98, 160, 200, 240]\n",
    "bhoop = [0, 40, 78, 139, 178, 240]\n",
    "megh = [0, 41, 100, 140, 202, 240]"
   ]
  },
  {
   "cell_type": "code",
   "execution_count": null,
   "id": "54a5bf2e",
   "metadata": {},
   "outputs": [],
   "source": [
    "print(np.diff(malkauns))\n",
    "print(np.diff(bhoop))\n",
    "print(np.diff(megh))"
   ]
  },
  {
   "cell_type": "code",
   "execution_count": null,
   "id": "ffd5beb7",
   "metadata": {},
   "outputs": [],
   "source": [
    "# out of 240, a syntonic comma will manifest as a delta of\n",
    "(librosa.hz_to_midi(220*81/80) - librosa.hz_to_midi(220)) * 20"
   ]
  },
  {
   "cell_type": "code",
   "execution_count": null,
   "id": "c2176fd8",
   "metadata": {},
   "outputs": [],
   "source": []
  },
  {
   "cell_type": "markdown",
   "id": "ba736b18",
   "metadata": {},
   "source": [
    "## Pitch Class on Tonnetz"
   ]
  },
  {
   "cell_type": "code",
   "execution_count": null,
   "id": "410645c0",
   "metadata": {},
   "outputs": [],
   "source": [
    "for track_mp3 in glob.glob(DATA_DIR + \"*Saraswati*.mp3\"):\n",
    "    track_path = track_mp3[:-4]\n",
    "\n",
    "y_sample, sr, ctonic = read_sample_and_tonic(track_path)\n",
    "kde_sample = kde.extract(y_sample, sr=sr, tonic=ctonic)"
   ]
  },
  {
   "cell_type": "code",
   "execution_count": null,
   "id": "485f12db",
   "metadata": {},
   "outputs": [],
   "source": [
    "plt.plot(np.linspace(0, 12, len(kde_sample)), kde_sample, color=\"darkgreen\")\n",
    "plt.xlabel(\"relative note index\")\n",
    "plt.ylabel(\"normalized duration\")\n",
    "\n",
    "pc12_sample = kde.bin_into_12(kde_sample)\n",
    "plt.bar(np.arange(12), pc12_sample, color=\"limegreen\", alpha=0.5, width=0.9)"
   ]
  },
  {
   "cell_type": "markdown",
   "id": "3d5591d8",
   "metadata": {},
   "source": [
    "We will use the `pc12_sample` to infer the ideal note peaks and match them with the peaks of the `kde_sample`"
   ]
  },
  {
   "cell_type": "code",
   "execution_count": null,
   "id": "4a19ee46",
   "metadata": {},
   "outputs": [],
   "source": [
    "g1 = tonnetz.EFGenus.from_list([3,3,3,5,7])\n",
    "tn = tonnetz.Tonnetz(g1)"
   ]
  },
  {
   "cell_type": "code",
   "execution_count": null,
   "id": "51ce78fe",
   "metadata": {},
   "outputs": [],
   "source": [
    "algo1 = tonnetz.TonnetzAlgo1(tn)\n",
    "algo1.set_pc12(pc12_sample)\n",
    "tonnetz_swar_set = algo1.execute()"
   ]
  },
  {
   "cell_type": "code",
   "execution_count": null,
   "id": "82f54160",
   "metadata": {},
   "outputs": [],
   "source": [
    "print(\"Tonnetz-friendly Frequencies\")\n",
    "for swar in tonnetz_swar_set.keys():\n",
    "    print(f\"{swar}: {tonnetz_swar_set[swar]}\")"
   ]
  },
  {
   "cell_type": "code",
   "execution_count": null,
   "id": "d5363c76",
   "metadata": {},
   "outputs": [],
   "source": [
    "print(\"Empirical Frequencies\")\n",
    "for swar in tonnetz_swar_set.keys():\n",
    "    chunk = kde.get_bin_support(Swar[swar].value)\n",
    "    chunk_vals = kde_sample[chunk]\n",
    "    max_index = chunk[np.argmax(chunk_vals)]\n",
    "    print(f\"{swar}: {kde.frequency_from_dist_idx(max_index, ctonic)/ctonic}\")"
   ]
  },
  {
   "cell_type": "code",
   "execution_count": null,
   "id": "4d617f78",
   "metadata": {},
   "outputs": [],
   "source": []
  },
  {
   "cell_type": "code",
   "execution_count": null,
   "id": "aa309095",
   "metadata": {},
   "outputs": [],
   "source": []
  },
  {
   "cell_type": "markdown",
   "id": "ea1eda80",
   "metadata": {},
   "source": [
    "## Demo of a note _Affecting_ Another"
   ]
  },
  {
   "cell_type": "markdown",
   "id": "2dd173aa",
   "metadata": {},
   "source": [
    "Some threads to pursue:\n",
    "\n",
    "1. \"Affecting\" notes: Jogkauns is supposed to have a higher g than Jog (32/27) as per Oak, since the Jogkauns g doesn't have the supporting n to consonate with.\n",
    "2. Resolving the whole Todi Multani business.\n",
    "3. Chandrakauns: Oak is clearly wrong here -- since he doesn't allow a N=3/25 since it's \"not a valid shruti\", he's set N=1/135. He's done a similar thing for Madhukauns (at least kept the two consistent..)\n",
    "3. Same applies to Abhogi & Kalavati!\n",
    "4. Champakali: Oak thinks the teevra Ma is the same as the Marubihag one. But Tai thinks it's different because of the n (maybe she meant 36/25?)\n",
    "5. Bheempalas v/s Kafi: Oak claim they have different Res. &#x2B50;\n",
    "6. Bheempalas v/s Dhani: Oak claim the latter has g2 n2 instead of g1 n1 (and hence is also _isomoorchhic_ to Bhoop!) &#x2B50;\n",
    "7. Maybe also look at Bairagi v/s Dhani?\n",
    "8. Yaman v/s Bhoop: Dha of Yaman is chadha (so as to be near teevra ma) &#x2B50;\n"
   ]
  },
  {
   "cell_type": "markdown",
   "id": "2634c121",
   "metadata": {},
   "source": [
    "quick reference (oak's notation m = teevra M = shuddha)\n",
    "\n",
    "malhar:     S R2 g1 m1 P D1 n1 N1<br>\n",
    "bahar:      exact same as malhar?!<br>\n",
    "darbari:    S R1 g1 M1 P d1 n1<br>\n",
    "kirwani:    S R2 g2 M1 P d2 N1<br>\n",
    "bhairavi:   S r2 g2 M2 P d2 n2<br>\n",
    "\n",
    "\n",
    "marwa:      S r2 G2 m1 D2 N1<br>\n",
    "sohani:     S r1 G1 m1 D1 N1<br>"
   ]
  },
  {
   "cell_type": "code",
   "execution_count": 22,
   "id": "cb8f8b06",
   "metadata": {},
   "outputs": [],
   "source": [
    "# raags_and_artists = {\n",
    "#     \"Jog\": {\n",
    "#         \"RashidKhan\": \"https://www.youtube.com/watch?v=3kXQBzfvZRU\",\n",
    "#         \"SanjeevAbhyankar\": \"https://www.youtube.com/watch?v=7CZPKxaW7DE\",\n",
    "#         \"VyankateshKumar\": \"https://www.youtube.com/watch?v=TmVBjHej_MU\",\n",
    "#     },\n",
    "#     \"Jogkauns\" : {\n",
    "#         \"RashidKhan\": \"https://www.youtube.com/watch?v=TTKY92oj2uw\",\n",
    "#         \"SanjeevAbhyankar\": \"https://www.youtube.com/watch?v=33_UYNZzCyY\",\n",
    "#         \"VyankateshKumar\": \"https://www.youtube.com/watch?v=BxrcoduPdoA\",\n",
    "#     }\n",
    "# }\n",
    "# raags_and_artists = {\n",
    "#     \"Bhoop\": {\n",
    "#         \"KishoriAmonkar\": \"https://www.youtube.com/watch?v=WfKpt-_kLdA\",\n",
    "#         \"AshwiniBhide\": \"https://www.youtube.com/watch?v=ybkJN0y0iLI\",\n",
    "#         \"RashidKhan\": \"https://www.youtube.com/watch?v=QWJPpdGXWeM\",\n",
    "#         \"DKDatar\": \"https://www.youtube.com/watch?v=z5RemO4d41o\",\n",
    "#     },\n",
    "#     \"Yaman\" : {\n",
    "#         \"KishoriAmonkar\": \"https://www.youtube.com/watch?v=RSba7WebiXo\",\n",
    "#         \"AshwiniBhide\": \"https://www.youtube.com/watch?v=V6evbTaYMc4\",\n",
    "#         \"RashidKhan\": \"https://www.youtube.com/watch?v=oSEuCJSnu94\",\n",
    "#         \"DKDatar\": \"https://www.youtube.com/watch?v=EemtViN7zM8\",\n",
    "#     }\n",
    "# }\n",
    "raags_and_artists = {\n",
    "    \"Bhoop\": {\n",
    "        \"MilindRaikar\": \"https://www.youtube.com/watch?v=9a7NhReDWy8\",\n",
    "        \"SubalAnirbanBiswas\": \"https://www.youtube.com/watch?v=fubGlKi7j0M\",  # problematic..\n",
    "        \"DKDatar\": \"https://www.youtube.com/watch?v=z5RemO4d41o\",\n",
    "    },\n",
    "    \"Yaman\" : {\n",
    "        \"KalaRamnath\": \"https://www.youtube.com/watch?v=kvTqtXP6lmo\",\n",
    "        \"NandiniShankar\": \"https://www.youtube.com/watch?v=ldS89LPpQ_w\",\n",
    "        \"DKDatar\": \"https://www.youtube.com/watch?v=EemtViN7zM8\",\n",
    "    }\n",
    "}"
   ]
  },
  {
   "cell_type": "code",
   "execution_count": null,
   "id": "887f948d",
   "metadata": {},
   "outputs": [],
   "source": [
    "# only once\n",
    "# fetch_audio(raags_and_artists)"
   ]
  },
  {
   "cell_type": "code",
   "execution_count": null,
   "id": "ddeeac48",
   "metadata": {},
   "outputs": [],
   "source": [
    "# TODO(neeraja): source separation"
   ]
  },
  {
   "cell_type": "code",
   "execution_count": null,
   "id": "439dc0c5",
   "metadata": {},
   "outputs": [],
   "source": [
    "# only once\n",
    "# for raag, vv in raags_and_artists.items():\n",
    "#     raag_samples = {}\n",
    "#     for artist, _ in vv.items():\n",
    "#         track_mp3 = glob.glob(f\"concrete-demo/{raag}-{artist}*.mp3\")[0]\n",
    "#         annotate_tonic(track_mp3[:-4])"
   ]
  },
  {
   "cell_type": "code",
   "execution_count": null,
   "id": "6a0525da",
   "metadata": {},
   "outputs": [],
   "source": []
  },
  {
   "cell_type": "code",
   "execution_count": null,
   "id": "9328ab5e",
   "metadata": {},
   "outputs": [],
   "source": [
    "raag_peaks = {}\n",
    "for raag, vv in raags_and_artists.items():\n",
    "    print(raag)\n",
    "    raag_peaks[raag] = []\n",
    "    plt.figure()\n",
    "    for artist, _ in vv.items():\n",
    "        track_mp3 = glob.glob(f\"concrete-demo/{raag}-{artist}*.mp3\")[0]\n",
    "        track_path = track_mp3[:-4]\n",
    "        y_sample, sr, ctonic = read_sample_and_tonic(track_path)\n",
    "        kde_sample = kde.extract(y_sample, sr=sr, tonic=ctonic)\n",
    "        peaks, _ = kde.prominence_based_peak_finder(kde_sample, prominence=0.005)\n",
    "        peaks = [pp / len(kde_sample) for pp in peaks]\n",
    "        raag_peaks[raag].append(peaks)\n",
    "        print(\"peaks\", peaks)\n",
    "        plt.plot(np.linspace(0, 12, len(kde_sample)), kde_sample, color=\"darkgreen\")\n",
    "\n",
    "    plt.minorticks_on()\n",
    "    plt.grid(axis='x', which='both')\n",
    "    plt.xlabel(\"relative note index\")\n",
    "    plt.ylabel(\"normalized duration\")\n",
    "    plt.title(raag)"
   ]
  },
  {
   "cell_type": "code",
   "execution_count": null,
   "id": "08192f7d",
   "metadata": {},
   "outputs": [],
   "source": []
  },
  {
   "cell_type": "code",
   "execution_count": null,
   "id": "1d7c422b",
   "metadata": {},
   "outputs": [],
   "source": [
    "# # make sure these look good, else edit\n",
    "# for raag, _ in raags_and_artists.items():\n",
    "#     rp = raag_peaks[raag]\n",
    "#     print(raag)\n",
    "#     for plist in rp:\n",
    "#         print(plist)"
   ]
  },
  {
   "cell_type": "code",
   "execution_count": null,
   "id": "ea7c2284",
   "metadata": {},
   "outputs": [],
   "source": [
    "raag_means = {}\n",
    "for raag, _ in raags_and_artists.items():\n",
    "    rp = raag_peaks[raag]\n",
    "    print(raag)\n",
    "    for peak_tuples in zip(*rp):\n",
    "        # peak_tuples are peaks for the same note from each artist clip\n",
    "        print(f\"swar = {Swar(round(peak_tuples[0]*12)%12).name} maxdelta = {max([abs(ii-jj) for ii, jj in itertools.combinations(peak_tuples, 2)])} mean = {np.mean(peak_tuples)}\")\n",
    "    raag_means[raag] = [np.mean(list(peak_tuples)) for peak_tuples in zip(*rp)]\n"
   ]
  },
  {
   "cell_type": "code",
   "execution_count": null,
   "id": "08bd0205",
   "metadata": {},
   "outputs": [],
   "source": []
  },
  {
   "cell_type": "code",
   "execution_count": null,
   "id": "e1aa8786",
   "metadata": {},
   "outputs": [],
   "source": []
  }
 ],
 "metadata": {
  "kernelspec": {
   "display_name": "icm-shruti-analysis-XL3d-GDY-py3.11",
   "language": "python",
   "name": "python3"
  },
  "language_info": {
   "codemirror_mode": {
    "name": "ipython",
    "version": 3
   },
   "file_extension": ".py",
   "mimetype": "text/x-python",
   "name": "python",
   "nbconvert_exporter": "python",
   "pygments_lexer": "ipython3",
   "version": "3.11.9"
  }
 },
 "nbformat": 4,
 "nbformat_minor": 5
}
