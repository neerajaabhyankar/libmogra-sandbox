{
 "cells": [
  {
   "cell_type": "markdown",
   "id": "3ddb2328",
   "metadata": {},
   "source": [
    "## Imports"
   ]
  },
  {
   "cell_type": "code",
   "execution_count": null,
   "id": "3efe71f5",
   "metadata": {},
   "outputs": [],
   "source": [
    "import glob\n",
    "import numpy as np\n",
    "import matplotlib.pyplot as plt\n",
    "import librosa\n",
    "from IPython.display import Audio as ipy_audio\n",
    "\n",
    "from quicktranscribe import tonic, pitch, wave, kde"
   ]
  },
  {
   "cell_type": "markdown",
   "id": "8a1d0907",
   "metadata": {},
   "source": [
    "- Clone and install https://github.com/MTG/pycompmusic\n",
    "- Download data using `download-dunya.py`"
   ]
  },
  {
   "cell_type": "code",
   "execution_count": null,
   "id": "41f26755",
   "metadata": {},
   "outputs": [],
   "source": [
    "DATA_DIR = \"/Users/neerajaabhyankar/Repos/icm-shruti-analysis/data-dunya-hindustani/\""
   ]
  },
  {
   "cell_type": "code",
   "execution_count": null,
   "metadata": {},
   "outputs": [],
   "source": []
  },
  {
   "cell_type": "markdown",
   "id": "5798e7f5",
   "metadata": {},
   "source": [
    "## Plot Annotations"
   ]
  },
  {
   "cell_type": "code",
   "execution_count": null,
   "id": "3cc9fc4e",
   "metadata": {},
   "outputs": [],
   "source": [
    "def plot_annotations(track):\n",
    "    ctonic = tonic.read_tonic(DATA_DIR + track + \".ctonic.txt\")\n",
    "    pitch_annotations, aps = pitch.read_pitch(DATA_DIR + track + \".pitch.txt\")\n",
    "    \n",
    "    pv = pitch.PitchValidator(audio_array=np.array([]), sampling_rate=0)\n",
    "    pv.set_annotation(pitch_annotations=pitch_annotations, annotation_rate=aps)\n",
    "    pv.set_tonic(ctonic)\n",
    "    \n",
    "    pv.plot_annotations_hist()"
   ]
  },
  {
   "cell_type": "markdown",
   "id": "e96c65f0",
   "metadata": {},
   "source": [
    "## Compare"
   ]
  },
  {
   "cell_type": "code",
   "execution_count": null,
   "id": "7b00026a",
   "metadata": {},
   "outputs": [],
   "source": [
    "plot_annotations(\"Omkar Dadarkar - Raag Todi\")"
   ]
  },
  {
   "cell_type": "code",
   "execution_count": null,
   "id": "685f6745",
   "metadata": {},
   "outputs": [],
   "source": [
    "plot_annotations(\"Omkar Dadarkar - Raag Multani\")"
   ]
  },
  {
   "cell_type": "code",
   "execution_count": null,
   "metadata": {},
   "outputs": [],
   "source": [
    "plot_annotations(\"Kaustuv Kanti Ganguli - Raag Puriya Dhanashree\")"
   ]
  },
  {
   "cell_type": "code",
   "execution_count": null,
   "metadata": {},
   "outputs": [],
   "source": [
    "plot_annotations(\"Kaustuv Kanti Ganguli - Raag Shree\")"
   ]
  },
  {
   "cell_type": "code",
   "execution_count": null,
   "id": "846febb1",
   "metadata": {},
   "outputs": [],
   "source": []
  },
  {
   "cell_type": "markdown",
   "id": "ba2fc49d",
   "metadata": {},
   "source": [
    "## Plot Detections"
   ]
  },
  {
   "cell_type": "code",
   "execution_count": null,
   "id": "fa714665",
   "metadata": {},
   "outputs": [],
   "source": [
    "def read_sample_and_tonic(track_path):\n",
    "    \n",
    "    ctonic = tonic.read_tonic(track_path + \".ctonic.txt\")\n",
    "    # metadata = tonic.read_metadata(track_path + \".json\")\n",
    "    # pitch_annotations, aps = pitch.read_pitch(track_path + \".pitch.txt\")\n",
    "    \n",
    "    # # full audio\n",
    "    # y_sample, sr = wave.get_audio(track_path + \".mp3\")\n",
    "\n",
    "    # # 10-minute sample\n",
    "    start=10*60\n",
    "    end=20*60\n",
    "    y_stereo, sr = wave.read_audio_section(track_path + \".mp3\", start, end)\n",
    "    y_sample = librosa.to_mono(y_stereo.T)\n",
    "    # ipy_audio(data=y_sample, rate=sr)\n",
    "    \n",
    "    return y_sample, sr, ctonic"
   ]
  },
  {
   "cell_type": "code",
   "execution_count": null,
   "id": "27a99156",
   "metadata": {},
   "outputs": [],
   "source": [
    "for track_mp3 in glob.glob(DATA_DIR + \"*Bhoop*.mp3\"):\n",
    "    track_path = track_mp3[:-4]\n",
    "    \n",
    "    y_sample, sr, ctonic = read_sample_and_tonic(track_path)\n",
    "    \n",
    "    kde_sample = kde.extract(y_sample, sr=sr, tonic=ctonic)\n",
    "\n",
    "    plt.plot(np.linspace(0, 12, len(kde_sample)), kde_sample, color=\"green\")\n",
    "    plt.xlabel(\"relative note index\")\n",
    "    plt.ylabel(\"normalized duration\")"
   ]
  },
  {
   "cell_type": "code",
   "execution_count": null,
   "id": "89d1ced8",
   "metadata": {},
   "outputs": [],
   "source": [
    "todis = {\n",
    "    # \"Ajoy Chakrabarty - Todi\": None,  # corrupted\n",
    "    \"Kumar Gandharva - Raag Todi\": None,\n",
    "    \"Omkar Dadarkar - Raag Todi\": None,\n",
    "}\n",
    "multanis = {\n",
    "    \"Ajoy Chakrabarty - Multani\": None,\n",
    "    \"Omkar Dadarkar - Raag Multani\": None,\n",
    "}"
   ]
  },
  {
   "cell_type": "code",
   "execution_count": null,
   "id": "8b87f088",
   "metadata": {},
   "outputs": [],
   "source": [
    "for track_name in todis:\n",
    "    track_mp3 = glob.glob(DATA_DIR + f\"*{track_name}*mp3\")[0]\n",
    "    track_path = track_mp3[:-4]\n",
    "    \n",
    "    y_sample, sr, ctonic = read_sample_and_tonic(track_path)\n",
    "    \n",
    "    kde_sample = kde.extract(y_sample, sr=sr, tonic=ctonic)\n",
    "    todis[track_name] = kde_sample\n",
    "    peaks, _ = kde.prominence_based_peak_finder(kde_sample, prominence=0.005)\n",
    "    print(peaks)\n",
    "\n",
    "    plt.plot(np.linspace(0, 12, len(kde_sample)), kde_sample, color=\"teal\")\n",
    "    plt.plot(np.array(peaks) * 12/len(kde_sample), kde_sample[peaks], \"o\", markersize=\"3\", color=\"orange\")\n",
    "    plt.xlabel(\"relative note index\")\n",
    "    plt.ylabel(\"normalized duration\")\n",
    "\n",
    "plt.show()"
   ]
  },
  {
   "cell_type": "code",
   "execution_count": null,
   "id": "cc2470c2",
   "metadata": {},
   "outputs": [],
   "source": [
    "for track_name in multanis:\n",
    "    track_mp3 = glob.glob(DATA_DIR + f\"*{track_name}*mp3\")[0]\n",
    "    track_path = track_mp3[:-4]\n",
    "    \n",
    "    y_sample, sr, ctonic = read_sample_and_tonic(track_path)\n",
    "    \n",
    "    kde_sample = kde.extract(y_sample, sr=sr, tonic=ctonic)\n",
    "    multanis[track_name] = kde_sample\n",
    "    peaks, _ = kde.prominence_based_peak_finder(kde_sample, prominence=0.005)\n",
    "    print(peaks)\n",
    "\n",
    "    plt.plot(np.linspace(0, 12, len(kde_sample)), kde_sample, color=\"olivedrab\")\n",
    "    plt.plot(np.array(peaks) * 12/len(kde_sample), kde_sample[peaks], \"o\", markersize=\"3\", color=\"orange\")\n",
    "    plt.xlabel(\"relative note index\")\n",
    "    plt.ylabel(\"normalized duration\")\n",
    "\n",
    "plt.show()"
   ]
  },
  {
   "cell_type": "code",
   "execution_count": null,
   "id": "362ffb6f",
   "metadata": {},
   "outputs": [],
   "source": [
    "malkaunses = {\n",
    "    \"Satyasheel Deshpande - Raag Malkauns\": None,\n",
    "    # \"Ajoy Chakrabarty - Malkauns\": None,\n",
    "}\n",
    "bhoops = {\n",
    "    \"Omkar Dadarkar - Raag Bhoopali\": None,\n",
    "    \"Sameehan Kashalkar - Raag Bhoopali\": None,\n",
    "}\n",
    "meghs = {\n",
    "    \"Anol Chatterjee - Raag Megh\": None,\n",
    "}"
   ]
  },
  {
   "cell_type": "code",
   "execution_count": null,
   "id": "14f77bde",
   "metadata": {},
   "outputs": [],
   "source": [
    "for track_name in malkaunses:\n",
    "    track_mp3 = glob.glob(DATA_DIR + f\"*{track_name}*mp3\")[0]\n",
    "    track_path = track_mp3[:-4]\n",
    "    \n",
    "    y_sample, sr, ctonic = read_sample_and_tonic(track_path)\n",
    "    \n",
    "    kde_sample = kde.extract(y_sample, sr=sr, tonic=ctonic)\n",
    "    malkaunses[track_name] = kde_sample\n",
    "    peaks, _ = kde.prominence_based_peak_finder(kde_sample, prominence=0.005)\n",
    "    print(peaks)\n",
    "\n",
    "    plt.plot(np.linspace(0, 12, len(kde_sample)), kde_sample, color=\"darkviolet\")\n",
    "    plt.plot(np.array(peaks) * 12/len(kde_sample), kde_sample[peaks], \"o\", markersize=\"3\", color=\"orange\")\n",
    "    plt.xlabel(\"relative note index\")\n",
    "    plt.ylabel(\"normalized duration\")\n",
    "\n",
    "plt.show()"
   ]
  },
  {
   "cell_type": "code",
   "execution_count": null,
   "id": "16fb02e7",
   "metadata": {},
   "outputs": [],
   "source": [
    "for track_name in bhoops:\n",
    "    track_mp3 = glob.glob(DATA_DIR + f\"*{track_name}*mp3\")[0]\n",
    "    track_path = track_mp3[:-4]\n",
    "    \n",
    "    y_sample, sr, ctonic = read_sample_and_tonic(track_path)\n",
    "    \n",
    "    kde_sample = kde.extract(y_sample, sr=sr, tonic=ctonic)\n",
    "    bhoops[track_name] = kde_sample\n",
    "    peaks, _ = kde.prominence_based_peak_finder(kde_sample, prominence=0.005)\n",
    "    print(peaks)\n",
    "\n",
    "    plt.plot(np.linspace(0, 12, len(kde_sample)), kde_sample, color=\"crimson\")\n",
    "    plt.plot(np.array(peaks) * 12/len(kde_sample), kde_sample[peaks], \"o\", markersize=\"3\", color=\"orange\")\n",
    "    plt.xlabel(\"relative note index\")\n",
    "    plt.ylabel(\"normalized duration\")\n",
    "\n",
    "plt.show()"
   ]
  },
  {
   "cell_type": "code",
   "execution_count": null,
   "id": "0cd399ef",
   "metadata": {},
   "outputs": [],
   "source": [
    "for track_name in meghs:\n",
    "    track_mp3 = glob.glob(DATA_DIR + f\"*{track_name}*mp3\")[0]\n",
    "    track_path = track_mp3[:-4]\n",
    "    \n",
    "    y_sample, sr, ctonic = read_sample_and_tonic(track_path)\n",
    "    \n",
    "    kde_sample = kde.extract(y_sample, sr=sr, tonic=ctonic)\n",
    "    meghs[track_name] = kde_sample\n",
    "    peaks, _ = kde.prominence_based_peak_finder(kde_sample, prominence=0.005)\n",
    "    print(peaks)\n",
    "\n",
    "    plt.plot(np.linspace(0, 12, len(kde_sample)), kde_sample, color=\"darkslateblue\")\n",
    "    plt.plot(np.array(peaks) * 12/len(kde_sample), kde_sample[peaks], \"o\", markersize=\"3\", color=\"orange\")\n",
    "    plt.xlabel(\"relative note index\")\n",
    "    plt.ylabel(\"normalized duration\")\n",
    "\n",
    "plt.show()"
   ]
  },
  {
   "cell_type": "code",
   "execution_count": null,
   "id": "01586811",
   "metadata": {},
   "outputs": [],
   "source": []
  },
  {
   "cell_type": "code",
   "execution_count": null,
   "id": "61e29270",
   "metadata": {},
   "outputs": [],
   "source": [
    "malkauns = [0, 62, 98, 160, 200, 240]\n",
    "bhoop = [0, 40, 78, 139, 178, 240]\n",
    "megh = [0, 41, 100, 140, 202, 240]"
   ]
  },
  {
   "cell_type": "code",
   "execution_count": null,
   "id": "54a5bf2e",
   "metadata": {},
   "outputs": [],
   "source": [
    "print(np.diff(malkauns))\n",
    "print(np.diff(bhoop))\n",
    "print(np.diff(megh))"
   ]
  },
  {
   "cell_type": "code",
   "execution_count": null,
   "id": "ffd5beb7",
   "metadata": {},
   "outputs": [],
   "source": [
    "# out of 240, a syntonic comma will manifest as a delta of\n",
    "(librosa.hz_to_midi(220*81/80) - librosa.hz_to_midi(220)) * 20"
   ]
  },
  {
   "cell_type": "code",
   "execution_count": null,
   "id": "c2176fd8",
   "metadata": {},
   "outputs": [],
   "source": []
  },
  {
   "cell_type": "code",
   "execution_count": null,
   "id": "410645c0",
   "metadata": {},
   "outputs": [],
   "source": []
  }
 ],
 "metadata": {
  "kernelspec": {
   "display_name": "Python 3",
   "language": "python",
   "name": "python3"
  },
  "language_info": {
   "codemirror_mode": {
    "name": "ipython",
    "version": 3
   },
   "file_extension": ".py",
   "mimetype": "text/x-python",
   "name": "python",
   "nbconvert_exporter": "python",
   "pygments_lexer": "ipython3",
   "version": "3.11.9"
  }
 },
 "nbformat": 4,
 "nbformat_minor": 5
}
